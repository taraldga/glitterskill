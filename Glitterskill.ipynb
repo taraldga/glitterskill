{
 "metadata": {
  "name": "",
  "signature": "sha256:59aa402e112043e7b8f6b30f5843130a4fe1f4a5d4318cad8005a22fc6c6afc6"
 },
 "nbformat": 3,
 "nbformat_minor": 0,
 "worksheets": [
  {
   "cells": [
    {
     "cell_type": "code",
     "collapsed": false,
     "input": [
      "import os\n",
      "import re\n",
      "import collections\n",
      "import pandas as pd\n",
      "import numpy as np\n",
      "import matplotlib.pyplot as plt\n",
      "from tempfile import TemporaryFile\n",
      "import pickle"
     ],
     "language": "python",
     "metadata": {},
     "outputs": [
      {
       "output_type": "stream",
       "stream": "stderr",
       "text": [
        "C:\\Users\\BeateHaram\\AppData\\Local\\Enthought\\Canopy\\User\\lib\\site-packages\\pandas\\io\\excel.py:626: UserWarning: Installed openpyxl is not supported at this time. Use >=1.6.1 and <2.0.0.\n",
        "  .format(openpyxl_compat.start_ver, openpyxl_compat.stop_ver))\n"
       ]
      }
     ],
     "prompt_number": 5
    },
    {
     "cell_type": "code",
     "collapsed": false,
     "input": [
      "#np.load(outfile)"
     ],
     "language": "python",
     "metadata": {},
     "outputs": [],
     "prompt_number": 1
    },
    {
     "cell_type": "code",
     "collapsed": false,
     "input": [
      "\n",
      "file = open('dump.txt','r')\n",
      "dict = pickle.load(file)\n",
      "print(dict)"
     ],
     "language": "python",
     "metadata": {},
     "outputs": [
      {
       "output_type": "stream",
       "stream": "stdout",
       "text": [
        "{'x': array([ 0,  1,  2,  3,  4,  5,  6,  7,  8,  9, 10, 11, 12, 13, 14, 15, 16,\n",
        "       17, 18, 19, 20, 21, 22, 23, 24, 25, 26, 27, 28, 29, 30, 31, 32, 33,\n",
        "       34, 35, 36, 37, 38, 39, 40, 41, 42, 43, 44, 45, 46, 47, 48, 49, 50,\n",
        "       51, 52, 53, 54, 55, 56, 57, 58, 59]), 'counts': array([ 1080.,   893.,   822.,   691.,   637.,   575.,   370.,   319.,\n",
        "         292.,   249.,   244.,   210.,   199.,   197.,   194.,   187.,\n",
        "         184.,   182.,   178.,   168.,   168.,   167.,   165.,   162.,\n",
        "         159.,   155.,   150.,   150.,   148.,   142.,   142.,   142.,\n",
        "         140.,   139.,   139.,   139.,   138.,   137.,   137.,   136.,\n",
        "         135.,   133.,   133.,   133.,   132.,   130.,   130.,   130.,\n",
        "         129.,   127.,   127.,   125.,   124.,   124.,   122.,   122.,\n",
        "         120.,   119.,   118.,   118.]), 'words': ['l', 's', 'it', 'sninger', 'h', 'r', 'n', 'ker', 'team', 'milj', 'net', 'kkelord', 'samt', 'y', 'design', 'k', 'rer', 'software', 'c', 're', 'data', 'm', 'technogarden', 'web', 'p', 'no', 'kunnskap', 'selskapet', 'rs', 'utdannelse', 'or', 'business', 'fokus', 'muntlig', 'gjennomf', 'kontakt', 'ikt', 'fagmilj', 'skriftlig', 'javascript', 'konkurransedyktige', 'cv', 'forst', 'java', 'betingelser', 'arbeidsmilj', 'selskap', 'f', 'else', 'interesse', 'oppgaver', 'universitet', 'dyktige', 'er', 'utfordringer', 'solid', 'microsoft', 'kontorer', 'yskole', 'systemer']}\n"
       ]
      }
     ],
     "prompt_number": 6
    },
    {
     "cell_type": "code",
     "collapsed": false,
     "input": [
      "counts = np.zeros(tresholdValue)\n",
      "x = np.zeros()\n",
      "words = []\n",
      "\n",
      "    for i in range(0,60):\n",
      "        counts[i] = commonwords[i][1]\n",
      "        words.append(commonwords[i][0])"
     ],
     "language": "python",
     "metadata": {},
     "outputs": [],
     "prompt_number": 8
    },
    {
     "cell_type": "code",
     "collapsed": false,
     "input": [],
     "language": "python",
     "metadata": {},
     "outputs": [],
     "prompt_number": 8
    },
    {
     "cell_type": "code",
     "collapsed": false,
     "input": [],
     "language": "python",
     "metadata": {},
     "outputs": []
    }
   ],
   "metadata": {}
  }
 ]
}