{
 "metadata": {
  "name": "",
  "signature": "sha256:f3eaf5199b57a365ef798083a057dec537a11d2585c4255dd3f0e39faa921f50"
 },
 "nbformat": 3,
 "nbformat_minor": 0,
 "worksheets": []
}