{
 "metadata": {
  "name": "",
  "signature": "sha256:e88d2c6d5ce07e7e37becc8087ea08b662ed3c0c17d909acf48353c78ea4c5cd"
 },
 "nbformat": 3,
 "nbformat_minor": 0,
 "worksheets": [
  {
   "cells": [
    {
     "cell_type": "code",
     "collapsed": false,
     "input": [
      "% matplotlib inline\n",
      "import os\n",
      "import re\n",
      "import collections\n",
      "import numpy as np\n",
      "import matplotlib.pyplot as plt\n",
      "import pickle"
     ],
     "language": "python",
     "metadata": {},
     "outputs": [],
     "prompt_number": 40
    },
    {
     "cell_type": "code",
     "collapsed": false,
     "input": [
      "\n",
      "file = open('dumpIkkedata.txt','r')\n",
      "test1dict = pickle.load(file)\n",
      "\n",
      "file = open('dumpSaga.txt','r')\n",
      "test2dict = pickle.load(file)\n",
      "\n",
      "file = open('dumpStop.txt','r')\n",
      "test3dict = pickle.load(file)"
     ],
     "language": "python",
     "metadata": {},
     "outputs": [],
     "prompt_number": 41
    },
    {
     "cell_type": "code",
     "collapsed": false,
     "input": [
      "words = test1dict['words']\n",
      "counts = test1dict['counts']\n",
      "thv = len(counts) #Tresholdvalue\n",
      "x = np.arange(thv)\n",
      "plt.bar(x, counts)\n",
      "#plt.xticks(x + 0.5, words, rotation=90) #For labels men ser ganske stygt ut"
     ],
     "language": "python",
     "metadata": {},
     "outputs": [
      {
       "metadata": {},
       "output_type": "pyout",
       "prompt_number": 51,
       "text": [
        "<Container object of 60 artists>"
       ]
      },
      {
       "metadata": {},
       "output_type": "display_data",
       "png": "[encoded data removed]",
       "text": [
        "<matplotlib.figure.Figure at 0xe460080>"
       ]
      }
     ],
     "prompt_number": 51
    },
    {
     "cell_type": "code",
     "collapsed": false,
     "input": [
      "words = test2dict['words']\n",
      "counts = test2dict['counts']\n",
      "thv = len(counts) #Tresholdvalue\n",
      "x = np.arange(thv)\n",
      "plt.bar(x, counts)\n",
      "#plt.xticks(x + 0.5, words, rotation=90) #For labels men ser ganske stygt ut"
     ],
     "language": "python",
     "metadata": {},
     "outputs": [
      {
       "metadata": {},
       "output_type": "pyout",
       "prompt_number": 49,
       "text": [
        "<Container object of 60 artists>"
       ]
      },
      {
       "metadata": {},
       "output_type": "display_data",
       "png": "[encoded data removed]",
       "text": [
        "<matplotlib.figure.Figure at 0xd0676d8>"
       ]
      }
     ],
     "prompt_number": 49
    },
    {
     "cell_type": "code",
     "collapsed": false,
     "input": [
      "words = test3dict['words']\n",
      "counts = test3dict['counts']\n",
      "thv = len(counts) #Tresholdvalue\n",
      "x = np.arange(thv)\n",
      "plt.bar(x, counts)\n",
      "#plt.xticks(x + 0.5, words, rotation=90) #For labels men ser ganske stygt ut"
     ],
     "language": "python",
     "metadata": {},
     "outputs": [
      {
       "metadata": {},
       "output_type": "pyout",
       "prompt_number": 50,
       "text": [
        "<Container object of 60 artists>"
       ]
      },
      {
       "metadata": {},
       "output_type": "display_data",
       "png": "[encoded data removed]",
       "text": [
        "<matplotlib.figure.Figure at 0xc3e3ba8>"
       ]
      }
     ],
     "prompt_number": 50
    },
    {
     "cell_type": "code",
     "collapsed": false,
     "input": [],
     "language": "python",
     "metadata": {},
     "outputs": [],
     "prompt_number": 46
    },
    {
     "cell_type": "code",
     "collapsed": false,
     "input": [],
     "language": "python",
     "metadata": {},
     "outputs": []
    }
   ],
   "metadata": {}
  }
 ]
}